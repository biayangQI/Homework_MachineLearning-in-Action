{
 "cells": [
  {
   "cell_type": "markdown",
   "metadata": {},
   "source": [
    "## 第5章 Logistical 回归\n",
    "### 二分类逻辑斯蒂回归模型\n"
   ]
  },
  {
   "cell_type": "markdown",
   "metadata": {},
   "source": [
    "#### 具体模型：\n",
    "$$\\begin{cases}\n",
    "P(Y=1|X) = \\frac{e^{wx+b}}{1+e^{wx+b}}\\\\\n",
    "P(Y=0|X) = \\frac{1}{1+e^{wx+b}}\\\\\n",
    "\\end{cases}\n",
    "$$\n",
    "一件事情发生的对数几率即为$log(\\frac{p}{1-p}) = wx+b$。原则上，我们可以用回归函数拟合线性部分，但是\n",
    "- 我们事先并不知道具体的概率值或者$wx+b$的值.\n",
    "- 对于二分类问题，目的是做出分类结果,只需要找到一个分割界面（对于二位平面上的点，只需要找到一条分隔直线）\n",
    "\n",
    "所以我们不需要找到一天经过各个点的直线，需要的是一个分割平面。\n",
    "\n",
    "**分类准则**：\n",
    "- $P(Y=1|X)>0.5$为正类（即y为1）\n",
    "- $P(Y=1|X)<0.5$为负类（即y为0）"
   ]
  },
  {
   "cell_type": "markdown",
   "metadata": {},
   "source": [
    "#### 参数估计（MLE）：\n",
    "用最大似然法进行参数估计。设$P(Y=1|X) = \\pi(x),P(Y=0|X) = 1-\\pi(x)$。则似然函数为$\\prod_{i=1}^{N}[\\pi(x_i)]^{y_i}[1-\\pi(x_i)]^{1-y_i}$,其对数似然函数化简后为\n",
    "$$L(w) = \\sum_{i=1}^{N}[y_i(wx_i)-\\log(1+exp(wx_i))]\\\\\n",
    "\\frac{\\partial L(w)}{\\partial w} = \\sum_{i=1}^{N}[x_i(y_i-\\frac{exp(wx_i)}{1+exp(wx_i)}]\n",
    "$$\n",
    "其中yi的预测值为$\\frac{exp(wx_i)}{1+exp(wx_i)}$"
   ]
  },
  {
   "cell_type": "markdown",
   "metadata": {},
   "source": [
    "#### 梯度下降法（牛顿法）求解$argmax_wL(w)$：\n",
    "需要估计参数w，用迭代法，$w=w-\\alpha \\bigtriangledown_wL(w) $,此时用负梯度方向作为下降方向。$\\alpha$为学习率，一般取值较小，机器学习实战的书中取值为0.01。"
   ]
  },
  {
   "cell_type": "code",
   "execution_count": null,
   "metadata": {
    "collapsed": true
   },
   "outputs": [],
   "source": []
  }
 ],
 "metadata": {
  "kernelspec": {
   "display_name": "Python 3",
   "language": "python",
   "name": "python3"
  },
  "language_info": {
   "codemirror_mode": {
    "name": "ipython",
    "version": 3
   },
   "file_extension": ".py",
   "mimetype": "text/x-python",
   "name": "python",
   "nbconvert_exporter": "python",
   "pygments_lexer": "ipython3",
   "version": "3.6.2"
  },
  "toc": {
   "base_numbering": 1,
   "nav_menu": {},
   "number_sections": true,
   "sideBar": true,
   "skip_h1_title": false,
   "title_cell": "Table of Contents",
   "title_sidebar": "Contents",
   "toc_cell": false,
   "toc_position": {},
   "toc_section_display": true,
   "toc_window_display": true
  }
 },
 "nbformat": 4,
 "nbformat_minor": 2
}
